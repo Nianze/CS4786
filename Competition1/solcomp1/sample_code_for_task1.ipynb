{
 "cells": [
  {
   "cell_type": "code",
   "execution_count": 1,
   "metadata": {
    "collapsed": true
   },
   "outputs": [],
   "source": [
    "%matplotlib inline\n",
    "import matplotlib.pyplot as plt\n",
    "\n",
    "import numpy as np\n",
    "import pandas as pd\n",
    "from scipy import sparse\n",
    "from sklearn.cross_decomposition import CCA\n",
    "from sklearn.manifold import spectral_embedding"
   ]
  },
  {
   "cell_type": "code",
   "execution_count": 2,
   "metadata": {
    "collapsed": false
   },
   "outputs": [
    {
     "data": {
      "text/plain": [
       "((368586, 3), (1416322, 3), (1829, 200))"
      ]
     },
     "execution_count": 2,
     "metadata": {},
     "output_type": "execute_result"
    }
   ],
   "source": [
    "# load data\n",
    "graph_feat = np.loadtxt('release_1/graph.csv', delimiter=',')\n",
    "description_feat = np.loadtxt('release_1/description.csv', delimiter=',')\n",
    "social_feat = np.loadtxt('release_1/social_and_evolution.csv', delimiter=',')\n",
    "\n",
    "semi_sup = pd.read_csv('release_1/success_partial_supervision.csv')\n",
    "\n",
    "graph_feat.shape, description_feat.shape, social_feat.shape"
   ]
  },
  {
   "cell_type": "code",
   "execution_count": 3,
   "metadata": {
    "collapsed": false
   },
   "outputs": [
    {
     "data": {
      "text/html": [
       "<div>\n",
       "<table border=\"1\" class=\"dataframe\">\n",
       "  <thead>\n",
       "    <tr style=\"text-align: right;\">\n",
       "      <th></th>\n",
       "      <th>index</th>\n",
       "      <th>is_successful</th>\n",
       "    </tr>\n",
       "  </thead>\n",
       "  <tbody>\n",
       "    <tr>\n",
       "      <th>0</th>\n",
       "      <td>12</td>\n",
       "      <td>1</td>\n",
       "    </tr>\n",
       "    <tr>\n",
       "      <th>1</th>\n",
       "      <td>1419</td>\n",
       "      <td>1</td>\n",
       "    </tr>\n",
       "    <tr>\n",
       "      <th>2</th>\n",
       "      <td>865</td>\n",
       "      <td>1</td>\n",
       "    </tr>\n",
       "    <tr>\n",
       "      <th>3</th>\n",
       "      <td>146</td>\n",
       "      <td>0</td>\n",
       "    </tr>\n",
       "    <tr>\n",
       "      <th>4</th>\n",
       "      <td>1653</td>\n",
       "      <td>0</td>\n",
       "    </tr>\n",
       "    <tr>\n",
       "      <th>5</th>\n",
       "      <td>1176</td>\n",
       "      <td>0</td>\n",
       "    </tr>\n",
       "  </tbody>\n",
       "</table>\n",
       "</div>"
      ],
      "text/plain": [
       "   index  is_successful\n",
       "0     12              1\n",
       "1   1419              1\n",
       "2    865              1\n",
       "3    146              0\n",
       "4   1653              0\n",
       "5   1176              0"
      ]
     },
     "execution_count": 3,
     "metadata": {},
     "output_type": "execute_result"
    }
   ],
   "source": [
    "semi_sup"
   ]
  },
  {
   "cell_type": "code",
   "execution_count": 4,
   "metadata": {
    "collapsed": false
   },
   "outputs": [],
   "source": [
    "# convert sparse matrices\n",
    "description_feat = sparse.csr_matrix((description_feat[:, 2], (description_feat[:, 0], description_feat[:, 1])), shape=(1829, 8000))\n",
    "graph_feat = sparse.csr_matrix((graph_feat[:, 2], (graph_feat[:, 0], graph_feat[:, 1])), shape=(1829, 146983197))"
   ]
  },
  {
   "cell_type": "code",
   "execution_count": 5,
   "metadata": {
    "collapsed": false
   },
   "outputs": [
    {
     "data": {
      "text/plain": [
       "(1829, 1829)"
      ]
     },
     "execution_count": 5,
     "metadata": {},
     "output_type": "execute_result"
    }
   ],
   "source": [
    "# get adjacent matrix between any two projects\n",
    "adj = (graph_feat * graph_feat.T)\n",
    "adj.data = (adj.data > 0).astype(np.int)\n",
    "adj.shape"
   ]
  },
  {
   "cell_type": "code",
   "execution_count": 6,
   "metadata": {
    "collapsed": false
   },
   "outputs": [
    {
     "data": {
      "text/plain": [
       "(1829, 1200)"
      ]
     },
     "execution_count": 6,
     "metadata": {},
     "output_type": "execute_result"
    }
   ],
   "source": [
    "# compute spectral embedding\n",
    "lapl_embed = spectral_embedding(adj, n_components=1200, random_state=0, eigen_tol=1e-8)\n",
    "lapl_embed.shape"
   ]
  },
  {
   "cell_type": "code",
   "execution_count": 7,
   "metadata": {
    "collapsed": false
   },
   "outputs": [],
   "source": [
    "# do CCA between lapl embedding features and social features\n",
    "cca = CCA(n_components=2, scale=False).fit(lapl_embed, social_feat)"
   ]
  },
  {
   "cell_type": "code",
   "execution_count": 8,
   "metadata": {
    "collapsed": true
   },
   "outputs": [],
   "source": [
    "# use the first dimention of CCA to predict\n",
    "pred = (cca.x_scores_[:, 0] > 0).astype(int)"
   ]
  },
  {
   "cell_type": "code",
   "execution_count": 9,
   "metadata": {
    "collapsed": true
   },
   "outputs": [],
   "source": [
    "# flip the label based on semi-supervision\n",
    "semi_mat = semi_sup.as_matrix()\n",
    "if (pred[semi_mat[:, 0]] == semi_mat[:, 1]).mean() < 0.5:\n",
    "    pred = 1 - pred"
   ]
  },
  {
   "cell_type": "code",
   "execution_count": 10,
   "metadata": {
    "collapsed": false
   },
   "outputs": [],
   "source": [
    "# save to output file\n",
    "pred_df = pd.DataFrame({'index': range(1829), 'is_successful': pred.astype(int)})\n",
    "pred_df.to_csv('predictions.csv', sep=',', index=False)"
   ]
  },
  {
   "cell_type": "markdown",
   "metadata": {
    "collapsed": true
   },
   "source": [
    "# Evaluation"
   ]
  },
  {
   "cell_type": "code",
   "execution_count": 11,
   "metadata": {
    "collapsed": false,
    "scrolled": false
   },
   "outputs": [],
   "source": [
    "labels = pd.read_csv('true_labels.csv')"
   ]
  },
  {
   "cell_type": "code",
   "execution_count": 12,
   "metadata": {
    "collapsed": false
   },
   "outputs": [],
   "source": [
    "public_indices = labels['Usage'] == 'Public'\n",
    "private_indices = labels['Usage'] == 'Private'"
   ]
  },
  {
   "cell_type": "code",
   "execution_count": 13,
   "metadata": {
    "collapsed": false
   },
   "outputs": [
    {
     "name": "stdout",
     "output_type": "stream",
     "text": [
      "Public score: 0.747264770241\n",
      "Private score: 0.697267759563\n"
     ]
    }
   ],
   "source": [
    "print('Public score:', (pred_df['is_successful'] == labels['is_successful'])[public_indices].mean())\n",
    "print('Private score:', (pred_df['is_successful'] == labels['is_successful'])[private_indices].mean())"
   ]
  },
  {
   "cell_type": "code",
   "execution_count": null,
   "metadata": {
    "collapsed": true
   },
   "outputs": [],
   "source": []
  }
 ],
 "metadata": {
  "kernelspec": {
   "display_name": "Python 3",
   "language": "python",
   "name": "python3"
  },
  "language_info": {
   "codemirror_mode": {
    "name": "ipython",
    "version": 3
   },
   "file_extension": ".py",
   "mimetype": "text/x-python",
   "name": "python",
   "nbconvert_exporter": "python",
   "pygments_lexer": "ipython3",
   "version": "3.5.1"
  }
 },
 "nbformat": 4,
 "nbformat_minor": 0
}
